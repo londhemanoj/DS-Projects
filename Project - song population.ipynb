{
  "cells": [
    {
      "cell_type": "markdown",
      "metadata": {
        "id": "dbjvacVW0eJA"
      },
      "source": [
        "#**Song Popularity Prediction**"
      ]
    },
    {
      "cell_type": "code",
      "execution_count": null,
      "metadata": {
        "id": "5Or8mhAYznV_"
      },
      "outputs": [],
      "source": [
        "dataset_url = 'https://www.kaggle.com/yamaerenay/spotify-dataset-19212020-160k-tracks'"
      ]
    },
    {
      "cell_type": "code",
      "execution_count": null,
      "metadata": {
        "colab": {
          "base_uri": "https://localhost:8080/"
        },
        "id": "bE-Zboe41L_-",
        "outputId": "f4dfa086-7300-4e7f-a8f5-f5c78d2dc429"
      },
      "outputs": [
        {
          "data": {
            "text/plain": [
              "['dict_artists.json',\n",
              " 'artists.csv',\n",
              " 'data_by_artists_o.csv',\n",
              " 'data_by_year_o.csv',\n",
              " '.ipynb_checkpoints',\n",
              " 'tracks.csv',\n",
              " 'data_o.csv',\n",
              " 'data_by_genres_o.csv']"
            ]
          },
          "execution_count": 6,
          "metadata": {
            "tags": []
          },
          "output_type": "execute_result"
        }
      ],
      "source": [
        "import os\n",
        "os.listdir(data_dir)"
      ]
    },
    {
      "cell_type": "code",
      "execution_count": null,
      "metadata": {
        "id": "0kFDmegMFm-C"
      },
      "outputs": [],
      "source": [
        "import pandas as pd"
      ]
    },
    {
      "cell_type": "code",
      "execution_count": null,
      "metadata": {
        "colab": {
          "base_uri": "https://localhost:8080/",
          "height": 643
        },
        "id": "vJME3YFPFsUR",
        "outputId": "b450539e-19ac-45c6-dd28-fc53ededc4f4"
      },
      "outputs": [
        {
          "data": {
            "text/html": [
              "<div>\n",
              "<style scoped>\n",
              "    .dataframe tbody tr th:only-of-type {\n",
              "        vertical-align: middle;\n",
              "    }\n",
              "\n",
              "    .dataframe tbody tr th {\n",
              "        vertical-align: top;\n",
              "    }\n",
              "\n",
              "    .dataframe thead th {\n",
              "        text-align: right;\n",
              "    }\n",
              "</style>\n",
              "<table border=\"1\" class=\"dataframe\">\n",
              "  <thead>\n",
              "    <tr style=\"text-align: right;\">\n",
              "      <th></th>\n",
              "      <th>id</th>\n",
              "      <th>name</th>\n",
              "      <th>popularity</th>\n",
              "      <th>duration_ms</th>\n",
              "      <th>explicit</th>\n",
              "      <th>artists</th>\n",
              "      <th>id_artists</th>\n",
              "      <th>release_date</th>\n",
              "      <th>danceability</th>\n",
              "      <th>energy</th>\n",
              "      <th>key</th>\n",
              "      <th>loudness</th>\n",
              "      <th>mode</th>\n",
              "      <th>speechiness</th>\n",
              "      <th>acousticness</th>\n",
              "      <th>instrumentalness</th>\n",
              "      <th>liveness</th>\n",
              "      <th>valence</th>\n",
              "      <th>tempo</th>\n",
              "      <th>time_signature</th>\n",
              "    </tr>\n",
              "  </thead>\n",
              "  <tbody>\n",
              "    <tr>\n",
              "      <th>0</th>\n",
              "      <td>35iwgR4jXetI318WEWsa1Q</td>\n",
              "      <td>Carve</td>\n",
              "      <td>6</td>\n",
              "      <td>126903</td>\n",
              "      <td>0</td>\n",
              "      <td>['Uli']</td>\n",
              "      <td>['45tIt06XoI0Iio4LBEVpls']</td>\n",
              "      <td>1922-02-22</td>\n",
              "      <td>0.645</td>\n",
              "      <td>0.4450</td>\n",
              "      <td>0</td>\n",
              "      <td>-13.338</td>\n",
              "      <td>1</td>\n",
              "      <td>0.4510</td>\n",
              "      <td>0.674</td>\n",
              "      <td>0.744000</td>\n",
              "      <td>0.1510</td>\n",
              "      <td>0.1270</td>\n",
              "      <td>104.851</td>\n",
              "      <td>3</td>\n",
              "    </tr>\n",
              "    <tr>\n",
              "      <th>1</th>\n",
              "      <td>021ht4sdgPcrDgSk7JTbKY</td>\n",
              "      <td>Capítulo 2.16 - Banquero Anarquista</td>\n",
              "      <td>0</td>\n",
              "      <td>98200</td>\n",
              "      <td>0</td>\n",
              "      <td>['Fernando Pessoa']</td>\n",
              "      <td>['14jtPCOoNZwquk5wd9DxrY']</td>\n",
              "      <td>1922-06-01</td>\n",
              "      <td>0.695</td>\n",
              "      <td>0.2630</td>\n",
              "      <td>0</td>\n",
              "      <td>-22.136</td>\n",
              "      <td>1</td>\n",
              "      <td>0.9570</td>\n",
              "      <td>0.797</td>\n",
              "      <td>0.000000</td>\n",
              "      <td>0.1480</td>\n",
              "      <td>0.6550</td>\n",
              "      <td>102.009</td>\n",
              "      <td>1</td>\n",
              "    </tr>\n",
              "    <tr>\n",
              "      <th>2</th>\n",
              "      <td>07A5yehtSnoedViJAZkNnc</td>\n",
              "      <td>Vivo para Quererte - Remasterizado</td>\n",
              "      <td>0</td>\n",
              "      <td>181640</td>\n",
              "      <td>0</td>\n",
              "      <td>['Ignacio Corsini']</td>\n",
              "      <td>['5LiOoJbxVSAMkBS2fUm3X2']</td>\n",
              "      <td>1922-03-21</td>\n",
              "      <td>0.434</td>\n",
              "      <td>0.1770</td>\n",
              "      <td>1</td>\n",
              "      <td>-21.180</td>\n",
              "      <td>1</td>\n",
              "      <td>0.0512</td>\n",
              "      <td>0.994</td>\n",
              "      <td>0.021800</td>\n",
              "      <td>0.2120</td>\n",
              "      <td>0.4570</td>\n",
              "      <td>130.418</td>\n",
              "      <td>5</td>\n",
              "    </tr>\n",
              "    <tr>\n",
              "      <th>3</th>\n",
              "      <td>08FmqUhxtyLTn6pAh6bk45</td>\n",
              "      <td>El Prisionero - Remasterizado</td>\n",
              "      <td>0</td>\n",
              "      <td>176907</td>\n",
              "      <td>0</td>\n",
              "      <td>['Ignacio Corsini']</td>\n",
              "      <td>['5LiOoJbxVSAMkBS2fUm3X2']</td>\n",
              "      <td>1922-03-21</td>\n",
              "      <td>0.321</td>\n",
              "      <td>0.0946</td>\n",
              "      <td>7</td>\n",
              "      <td>-27.961</td>\n",
              "      <td>1</td>\n",
              "      <td>0.0504</td>\n",
              "      <td>0.995</td>\n",
              "      <td>0.918000</td>\n",
              "      <td>0.1040</td>\n",
              "      <td>0.3970</td>\n",
              "      <td>169.980</td>\n",
              "      <td>3</td>\n",
              "    </tr>\n",
              "    <tr>\n",
              "      <th>4</th>\n",
              "      <td>08y9GfoqCWfOGsKdwojr5e</td>\n",
              "      <td>Lady of the Evening</td>\n",
              "      <td>0</td>\n",
              "      <td>163080</td>\n",
              "      <td>0</td>\n",
              "      <td>['Dick Haymes']</td>\n",
              "      <td>['3BiJGZsyX9sJchTqcSA7Su']</td>\n",
              "      <td>1922</td>\n",
              "      <td>0.402</td>\n",
              "      <td>0.1580</td>\n",
              "      <td>3</td>\n",
              "      <td>-16.900</td>\n",
              "      <td>0</td>\n",
              "      <td>0.0390</td>\n",
              "      <td>0.989</td>\n",
              "      <td>0.130000</td>\n",
              "      <td>0.3110</td>\n",
              "      <td>0.1960</td>\n",
              "      <td>103.220</td>\n",
              "      <td>4</td>\n",
              "    </tr>\n",
              "    <tr>\n",
              "      <th>...</th>\n",
              "      <td>...</td>\n",
              "      <td>...</td>\n",
              "      <td>...</td>\n",
              "      <td>...</td>\n",
              "      <td>...</td>\n",
              "      <td>...</td>\n",
              "      <td>...</td>\n",
              "      <td>...</td>\n",
              "      <td>...</td>\n",
              "      <td>...</td>\n",
              "      <td>...</td>\n",
              "      <td>...</td>\n",
              "      <td>...</td>\n",
              "      <td>...</td>\n",
              "      <td>...</td>\n",
              "      <td>...</td>\n",
              "      <td>...</td>\n",
              "      <td>...</td>\n",
              "      <td>...</td>\n",
              "      <td>...</td>\n",
              "    </tr>\n",
              "    <tr>\n",
              "      <th>586667</th>\n",
              "      <td>5rgu12WBIHQtvej2MdHSH0</td>\n",
              "      <td>云与海</td>\n",
              "      <td>50</td>\n",
              "      <td>258267</td>\n",
              "      <td>0</td>\n",
              "      <td>['阿YueYue']</td>\n",
              "      <td>['1QLBXKM5GCpyQQSVMNZqrZ']</td>\n",
              "      <td>2020-09-26</td>\n",
              "      <td>0.560</td>\n",
              "      <td>0.5180</td>\n",
              "      <td>0</td>\n",
              "      <td>-7.471</td>\n",
              "      <td>0</td>\n",
              "      <td>0.0292</td>\n",
              "      <td>0.785</td>\n",
              "      <td>0.000000</td>\n",
              "      <td>0.0648</td>\n",
              "      <td>0.2110</td>\n",
              "      <td>131.896</td>\n",
              "      <td>4</td>\n",
              "    </tr>\n",
              "    <tr>\n",
              "      <th>586668</th>\n",
              "      <td>0NuWgxEp51CutD2pJoF4OM</td>\n",
              "      <td>blind</td>\n",
              "      <td>72</td>\n",
              "      <td>153293</td>\n",
              "      <td>0</td>\n",
              "      <td>['ROLE MODEL']</td>\n",
              "      <td>['1dy5WNgIKQU6ezkpZs4y8z']</td>\n",
              "      <td>2020-10-21</td>\n",
              "      <td>0.765</td>\n",
              "      <td>0.6630</td>\n",
              "      <td>0</td>\n",
              "      <td>-5.223</td>\n",
              "      <td>1</td>\n",
              "      <td>0.0652</td>\n",
              "      <td>0.141</td>\n",
              "      <td>0.000297</td>\n",
              "      <td>0.0924</td>\n",
              "      <td>0.6860</td>\n",
              "      <td>150.091</td>\n",
              "      <td>4</td>\n",
              "    </tr>\n",
              "    <tr>\n",
              "      <th>586669</th>\n",
              "      <td>27Y1N4Q4U3EfDU5Ubw8ws2</td>\n",
              "      <td>What They'll Say About Us</td>\n",
              "      <td>70</td>\n",
              "      <td>187601</td>\n",
              "      <td>0</td>\n",
              "      <td>['FINNEAS']</td>\n",
              "      <td>['37M5pPGs6V1fchFJSgCguX']</td>\n",
              "      <td>2020-09-02</td>\n",
              "      <td>0.535</td>\n",
              "      <td>0.3140</td>\n",
              "      <td>7</td>\n",
              "      <td>-12.823</td>\n",
              "      <td>0</td>\n",
              "      <td>0.0408</td>\n",
              "      <td>0.895</td>\n",
              "      <td>0.000150</td>\n",
              "      <td>0.0874</td>\n",
              "      <td>0.0663</td>\n",
              "      <td>145.095</td>\n",
              "      <td>4</td>\n",
              "    </tr>\n",
              "    <tr>\n",
              "      <th>586670</th>\n",
              "      <td>45XJsGpFTyzbzeWK8VzR8S</td>\n",
              "      <td>A Day At A Time</td>\n",
              "      <td>58</td>\n",
              "      <td>142003</td>\n",
              "      <td>0</td>\n",
              "      <td>['Gentle Bones', 'Clara Benin']</td>\n",
              "      <td>['4jGPdu95icCKVF31CcFKbS', '5ebPSE9YI5aLeZ1Z2g...</td>\n",
              "      <td>2021-03-05</td>\n",
              "      <td>0.696</td>\n",
              "      <td>0.6150</td>\n",
              "      <td>10</td>\n",
              "      <td>-6.212</td>\n",
              "      <td>1</td>\n",
              "      <td>0.0345</td>\n",
              "      <td>0.206</td>\n",
              "      <td>0.000003</td>\n",
              "      <td>0.3050</td>\n",
              "      <td>0.4380</td>\n",
              "      <td>90.029</td>\n",
              "      <td>4</td>\n",
              "    </tr>\n",
              "    <tr>\n",
              "      <th>586671</th>\n",
              "      <td>5Ocn6dZ3BJFPWh4ylwFXtn</td>\n",
              "      <td>Mar de Emociones</td>\n",
              "      <td>38</td>\n",
              "      <td>214360</td>\n",
              "      <td>0</td>\n",
              "      <td>['Afrosound']</td>\n",
              "      <td>['0i4Qda0k4nf7jnNHmSNpYv']</td>\n",
              "      <td>2015-07-01</td>\n",
              "      <td>0.686</td>\n",
              "      <td>0.7230</td>\n",
              "      <td>6</td>\n",
              "      <td>-7.067</td>\n",
              "      <td>1</td>\n",
              "      <td>0.0363</td>\n",
              "      <td>0.105</td>\n",
              "      <td>0.000000</td>\n",
              "      <td>0.2640</td>\n",
              "      <td>0.9750</td>\n",
              "      <td>112.204</td>\n",
              "      <td>4</td>\n",
              "    </tr>\n",
              "  </tbody>\n",
              "</table>\n",
              "<p>586672 rows × 20 columns</p>\n",
              "</div>"
            ],
            "text/plain": [
              "                            id  ... time_signature\n",
              "0       35iwgR4jXetI318WEWsa1Q  ...              3\n",
              "1       021ht4sdgPcrDgSk7JTbKY  ...              1\n",
              "2       07A5yehtSnoedViJAZkNnc  ...              5\n",
              "3       08FmqUhxtyLTn6pAh6bk45  ...              3\n",
              "4       08y9GfoqCWfOGsKdwojr5e  ...              4\n",
              "...                        ...  ...            ...\n",
              "586667  5rgu12WBIHQtvej2MdHSH0  ...              4\n",
              "586668  0NuWgxEp51CutD2pJoF4OM  ...              4\n",
              "586669  27Y1N4Q4U3EfDU5Ubw8ws2  ...              4\n",
              "586670  45XJsGpFTyzbzeWK8VzR8S  ...              4\n",
              "586671  5Ocn6dZ3BJFPWh4ylwFXtn  ...              4\n",
              "\n",
              "[586672 rows x 20 columns]"
            ]
          },
          "execution_count": 8,
          "metadata": {
            "tags": []
          },
          "output_type": "execute_result"
        }
      ],
      "source": [
        "tracks_df = pd.read_csv(data_dir + '/tracks.csv')\n",
        "tracks_df"
      ]
    },
    {
      "cell_type": "markdown",
      "metadata": {
        "id": "TmfEBjUmEJ7c"
      },
      "source": [
        "## Exploratory Data Analysis and Visualization"
      ]
    },
    {
      "cell_type": "code",
      "execution_count": null,
      "metadata": {
        "id": "LqqQMqvsJEeV"
      },
      "outputs": [],
      "source": [
        "import seaborn as sns\n",
        "import matplotlib\n",
        "import matplotlib.pyplot as plt\n",
        "import numpy as np\n",
        "import plotly.express as px\n",
        "%matplotlib inline\n",
        "\n",
        "sns.set_style('darkgrid')\n",
        "matplotlib.rcParams['font.size'] = 14\n",
        "matplotlib.rcParams['figure.figsize'] = (12, 6)\n",
        "matplotlib.rcParams['figure.facecolor'] = '#00000000'"
      ]
    },
    {
      "cell_type": "code",
      "execution_count": null,
      "metadata": {
        "colab": {
          "base_uri": "https://localhost:8080/",
          "height": 506
        },
        "id": "gIsCeUlqIIBW",
        "outputId": "763b0847-ce14-4a36-c716-e5433707ce56"
      },
      "outputs": [
        {
          "data": {
            "image/png": "[encoded data removed]",
            "text/plain": [
              "<Figure size 864x432 with 2 Axes>"
            ]
          },
          "metadata": {
            "needs_background": "light",
            "tags": []
          },
          "output_type": "display_data"
        }
      ],
      "source": [
        "corr = tracks_df[['danceability', \n",
        "                  'energy', \n",
        "                  'loudness', \n",
        "                  'speechiness', \n",
        "                  'acousticness', \n",
        "                  'instrumentalness', \n",
        "                  'liveness',\n",
        "                  'valence', \n",
        "                  'tempo' ]].corr()\n",
        "\n",
        "plt.title('Correlation between the audio features')\n",
        "sns.heatmap(corr, annot=True);"
      ]
    },
    {
      "cell_type": "code",
      "execution_count": null,
      "metadata": {
        "colab": {
          "base_uri": "https://localhost:8080/"
        },
        "id": "YoxmHRWcznWA",
        "outputId": "9ae3f87f-8c48-4e59-9817-92da0cb80d18"
      },
      "outputs": [
        {
          "data": {
            "text/plain": [
              "0    560808\n",
              "1     25864\n",
              "Name: explicit, dtype: int64"
            ]
          },
          "execution_count": 12,
          "metadata": {
            "tags": []
          },
          "output_type": "execute_result"
        }
      ],
      "source": [
        "tracks_df.explicit.value_counts()"
      ]
    },
    {
      "cell_type": "code",
      "execution_count": null,
      "metadata": {
        "colab": {
          "base_uri": "https://localhost:8080/",
          "height": 377
        },
        "id": "yQzbiJxSKaJw",
        "outputId": "04c24f22-3885-49be-92d9-034c6f7000ef"
      },
      "outputs": [
        {
          "data": {
            "image/png": "[encoded data removed]",
            "text/plain": [
              "<Figure size 864x432 with 1 Axes>"
            ]
          },
          "metadata": {
            "tags": []
          },
          "output_type": "display_data"
        }
      ],
      "source": [
        "plt.title('Songs with Parental Advisory')\n",
        "plt.pie(tracks_df.explicit.value_counts(), \n",
        "        explode=(0.2, 0.01), \n",
        "        colors=['skyblue','#ffcccc'], \n",
        "        autopct='%1.1f%%', \n",
        "        startangle=180);"
      ]
    },
    {
      "cell_type": "code",
      "execution_count": null,
      "metadata": {
        "id": "Q4x1uYRrKc4L"
      },
      "outputs": [],
      "source": [
        "px.scatter(tracks_df, x='release_date', y='popularity', title='Release Date vs. Popularity')"
      ]
    },
    {
      "cell_type": "markdown",
      "metadata": {
        "id": "wBae5-m1SBZ7"
      },
      "source": [
        "## Preprocessing\n",
        "\n",
        "\n"
      ]
    },
    {
      "cell_type": "code",
      "execution_count": null,
      "metadata": {
        "colab": {
          "base_uri": "https://localhost:8080/"
        },
        "id": "Ff2hmJh5TPq6",
        "outputId": "2d583eeb-1369-4e2b-b6c6-50abfd5a3038"
      },
      "outputs": [
        {
          "name": "stdout",
          "output_type": "stream",
          "text": [
            "<class 'pandas.core.frame.DataFrame'>\n",
            "RangeIndex: 586672 entries, 0 to 586671\n",
            "Data columns (total 20 columns):\n",
            " #   Column            Non-Null Count   Dtype  \n",
            "---  ------            --------------   -----  \n",
            " 0   id                586672 non-null  object \n",
            " 1   name              586601 non-null  object \n",
            " 2   popularity        586672 non-null  int64  \n",
            " 3   duration_ms       586672 non-null  int64  \n",
            " 4   explicit          586672 non-null  int64  \n",
            " 5   artists           586672 non-null  object \n",
            " 6   id_artists        586672 non-null  object \n",
            " 7   release_date      586672 non-null  object \n",
            " 8   danceability      586672 non-null  float64\n",
            " 9   energy            586672 non-null  float64\n",
            " 10  key               586672 non-null  int64  \n",
            " 11  loudness          586672 non-null  float64\n",
            " 12  mode              586672 non-null  int64  \n",
            " 13  speechiness       586672 non-null  float64\n",
            " 14  acousticness      586672 non-null  float64\n",
            " 15  instrumentalness  586672 non-null  float64\n",
            " 16  liveness          586672 non-null  float64\n",
            " 17  valence           586672 non-null  float64\n",
            " 18  tempo             586672 non-null  float64\n",
            " 19  time_signature    586672 non-null  int64  \n",
            "dtypes: float64(9), int64(6), object(5)\n",
            "memory usage: 89.5+ MB\n"
          ]
        }
      ],
      "source": [
        "tracks_df.info()"
      ]
    },
    {
      "cell_type": "code",
      "execution_count": null,
      "metadata": {
        "colab": {
          "base_uri": "https://localhost:8080/"
        },
        "id": "LOPLIJPOOoaa",
        "outputId": "98ca5fe9-460c-4974-9162-37a3ce5434f7"
      },
      "outputs": [
        {
          "data": {
            "text/plain": [
              "280451          1954\n",
              "318897    1994-01-01\n",
              "467545    2003-01-01\n",
              "570339          1954\n",
              "38400     1964-01-01\n",
              "367025    1996-08-09\n",
              "567268    2000-12-18\n",
              "305275    2020-05-15\n",
              "65610     1992-01-01\n",
              "392670    1982-01-01\n",
              "Name: release_date, dtype: object"
            ]
          },
          "execution_count": 16,
          "metadata": {
            "tags": []
          },
          "output_type": "execute_result"
        }
      ],
      "source": [
        "tracks_df['release_date'].sample(10)"
      ]
    },
    {
      "cell_type": "code",
      "execution_count": null,
      "metadata": {
        "id": "oo-pGd9FT_Sa"
      },
      "outputs": [],
      "source": [
        "def to_year(x):\n",
        "    result = []\n",
        "    x.to_string()\n",
        "    for i in x:\n",
        "        result.append(int(i[:4]))\n",
        "    return result\n",
        "\n",
        "tracks_df['year'] = to_year(tracks_df.release_date)"
      ]
    },
    {
      "cell_type": "code",
      "execution_count": null,
      "metadata": {
        "colab": {
          "base_uri": "https://localhost:8080/"
        },
        "id": "J9iRK7NgWjAo",
        "outputId": "14adb386-fa38-4678-d79f-7c33be0d848e"
      },
      "outputs": [
        {
          "data": {
            "text/plain": [
              "491215    1988\n",
              "436448    2010\n",
              "365012    1990\n",
              "526481    2002\n",
              "436743    2012\n",
              "374357    2020\n",
              "398975    2017\n",
              "79429     2018\n",
              "429506    1973\n",
              "269191    1985\n",
              "Name: year, dtype: int64"
            ]
          },
          "execution_count": 18,
          "metadata": {
            "tags": []
          },
          "output_type": "execute_result"
        }
      ],
      "source": [
        "tracks_df['year'].sample(10)"
      ]
    },
    {
      "cell_type": "code",
      "execution_count": null,
      "metadata": {
        "id": "_M0MDFbH3rYY"
      },
      "outputs": [],
      "source": [
        "max_year = tracks_df['year'].max()"
      ]
    },
    {
      "cell_type": "code",
      "execution_count": null,
      "metadata": {
        "id": "xfBPuQN53qs6"
      },
      "outputs": [],
      "source": [
        "tracks_df['years_old'] = max_year - tracks_df['year']"
      ]
    },
    {
      "cell_type": "code",
      "execution_count": null,
      "metadata": {
        "colab": {
          "base_uri": "https://localhost:8080/"
        },
        "id": "5fPzzDaC3oy8",
        "outputId": "e2cb616a-dc13-4b8f-9f00-65b981949880"
      },
      "outputs": [
        {
          "data": {
            "text/plain": [
              "560214     7\n",
              "224465    34\n",
              "563031    65\n",
              "121726    86\n",
              "92242      2\n",
              "416956    63\n",
              "297638    46\n",
              "58044     37\n",
              "418599    18\n",
              "491004    37\n",
              "Name: years_old, dtype: int64"
            ]
          },
          "execution_count": 21,
          "metadata": {
            "tags": []
          },
          "output_type": "execute_result"
        }
      ],
      "source": [
        "tracks_df['years_old'].sample(10)"
      ]
    },
    {
      "cell_type": "code",
      "execution_count": null,
      "metadata": {
        "colab": {
          "base_uri": "https://localhost:8080/"
        },
        "id": "38lRp2X6VAQJ",
        "outputId": "9fc65165-9648-4dd2-a8c2-dd0c081fa21d"
      },
      "outputs": [
        {
          "data": {
            "text/plain": [
              "0.000      328\n",
              "128.003     98\n",
              "119.994     91\n",
              "139.980     89\n",
              "127.994     86\n",
              "          ... \n",
              "185.442      1\n",
              "170.351      1\n",
              "122.670      1\n",
              "55.513       1\n",
              "144.505      1\n",
              "Name: tempo, Length: 122706, dtype: int64"
            ]
          },
          "execution_count": 22,
          "metadata": {
            "tags": []
          },
          "output_type": "execute_result"
        }
      ],
      "source": [
        "tracks_df['tempo'].value_counts()"
      ]
    },
    {
      "cell_type": "code",
      "execution_count": null,
      "metadata": {
        "id": "uRnlSzbwWk0f"
      },
      "outputs": [],
      "source": [
        "tracks_df.loc[tracks_df['tempo'] == 0 , 'tempo'] = tracks_df.loc[tracks_df['tempo'] > 0 , 'tempo'].mean()"
      ]
    },
    {
      "cell_type": "code",
      "execution_count": null,
      "metadata": {
        "colab": {
          "base_uri": "https://localhost:8080/"
        },
        "id": "CD5ngOJsXRcb",
        "outputId": "2785e3e0-4a73-451a-9331-082605605496"
      },
      "outputs": [
        {
          "data": {
            "text/plain": [
              "118.531126    328\n",
              "128.003000     98\n",
              "119.994000     91\n",
              "139.980000     89\n",
              "127.994000     86\n",
              "             ... \n",
              "185.442000      1\n",
              "170.351000      1\n",
              "122.670000      1\n",
              "61.106000       1\n",
              "144.505000      1\n",
              "Name: tempo, Length: 122706, dtype: int64"
            ]
          },
          "execution_count": 24,
          "metadata": {
            "tags": []
          },
          "output_type": "execute_result"
        }
      ],
      "source": [
        "tracks_df['tempo'].value_counts()"
      ]
    },
    {
      "cell_type": "code",
      "execution_count": null,
      "metadata": {
        "id": "mHarAvN8G-yD"
      },
      "outputs": [],
      "source": [
        "tracks_df['mean'] = tracks_df.groupby('artists')['popularity'].transform('mean')\n",
        "tracks_df['count'] = tracks_df.groupby('artists')['popularity'].transform('count')"
      ]
    },
    {
      "cell_type": "code",
      "execution_count": null,
      "metadata": {
        "id": "XdSN5gV6WtoL"
      },
      "outputs": [],
      "source": [
        "def get_artist_popularity(x, y):\n",
        "  result = y.groupby(x.artists).agg(['mean', 'count'])\n",
        "  result.loc[result['count'] <= 2, 'mean'] = y.mean()\n",
        "  result.loc[result['count'] >= 600, 'mean'] = 0\n",
        "  return result"
      ]
    },
    {
      "cell_type": "code",
      "execution_count": null,
      "metadata": {
        "id": "vyNLxj43IfIi"
      },
      "outputs": [],
      "source": [
        "temp_df = tracks_df.drop('popularity', axis=1)\n",
        "result_df = get_artist_popularity(temp_df, tracks_df['popularity'])['mean']\n",
        "tracks_df['artist_popularity'] = np.where(tracks_df['artists'].isin(result_df.index), \n",
        "                                          tracks_df['artists'], \n",
        "                                          'unknown')\n",
        "tracks_df['artist_popularity'] = tracks_df['artist_popularity'].map(result_df)"
      ]
    },
    {
      "cell_type": "code",
      "execution_count": null,
      "metadata": {
        "colab": {
          "base_uri": "https://localhost:8080/",
          "height": 359
        },
        "id": "Jl99CwpyM-YC",
        "outputId": "27926ab9-d6f4-4bc1-84f7-0a4dfebe71e9"
      },
      "outputs": [
        {
          "data": {
            "text/html": [
              "<div>\n",
              "<style scoped>\n",
              "    .dataframe tbody tr th:only-of-type {\n",
              "        vertical-align: middle;\n",
              "    }\n",
              "\n",
              "    .dataframe tbody tr th {\n",
              "        vertical-align: top;\n",
              "    }\n",
              "\n",
              "    .dataframe thead th {\n",
              "        text-align: right;\n",
              "    }\n",
              "</style>\n",
              "<table border=\"1\" class=\"dataframe\">\n",
              "  <thead>\n",
              "    <tr style=\"text-align: right;\">\n",
              "      <th></th>\n",
              "      <th>artists</th>\n",
              "      <th>artist_popularity</th>\n",
              "    </tr>\n",
              "  </thead>\n",
              "  <tbody>\n",
              "    <tr>\n",
              "      <th>37724</th>\n",
              "      <td>['Bob Dylan']</td>\n",
              "      <td>31.243070</td>\n",
              "    </tr>\n",
              "    <tr>\n",
              "      <th>308484</th>\n",
              "      <td>['Cast of \"Folk Og Røvere I Kardemomme By\"']</td>\n",
              "      <td>21.285714</td>\n",
              "    </tr>\n",
              "    <tr>\n",
              "      <th>73411</th>\n",
              "      <td>['Gustavo Cerati']</td>\n",
              "      <td>49.400000</td>\n",
              "    </tr>\n",
              "    <tr>\n",
              "      <th>200336</th>\n",
              "      <td>['Vicente Garcia']</td>\n",
              "      <td>45.041667</td>\n",
              "    </tr>\n",
              "    <tr>\n",
              "      <th>135171</th>\n",
              "      <td>['The Victor Orchestra', 'Nat Shilkret']</td>\n",
              "      <td>0.031250</td>\n",
              "    </tr>\n",
              "    <tr>\n",
              "      <th>584631</th>\n",
              "      <td>['Per Gessle', 'Helena Josefsson']</td>\n",
              "      <td>27.570053</td>\n",
              "    </tr>\n",
              "    <tr>\n",
              "      <th>501328</th>\n",
              "      <td>['Johannes Brahms', 'Wilhelm Furtwängler', 'Wi...</td>\n",
              "      <td>0.000000</td>\n",
              "    </tr>\n",
              "    <tr>\n",
              "      <th>301688</th>\n",
              "      <td>['Dr. Dre', 'Snoop Dogg']</td>\n",
              "      <td>64.714286</td>\n",
              "    </tr>\n",
              "    <tr>\n",
              "      <th>261596</th>\n",
              "      <td>['Hex']</td>\n",
              "      <td>16.733333</td>\n",
              "    </tr>\n",
              "    <tr>\n",
              "      <th>29816</th>\n",
              "      <td>['Kishore Kumar', 'Asha Bhosle']</td>\n",
              "      <td>19.616162</td>\n",
              "    </tr>\n",
              "  </tbody>\n",
              "</table>\n",
              "</div>"
            ],
            "text/plain": [
              "                                                  artists  artist_popularity\n",
              "37724                                       ['Bob Dylan']          31.243070\n",
              "308484       ['Cast of \"Folk Og Røvere I Kardemomme By\"']          21.285714\n",
              "73411                                  ['Gustavo Cerati']          49.400000\n",
              "200336                                 ['Vicente Garcia']          45.041667\n",
              "135171           ['The Victor Orchestra', 'Nat Shilkret']           0.031250\n",
              "584631                 ['Per Gessle', 'Helena Josefsson']          27.570053\n",
              "501328  ['Johannes Brahms', 'Wilhelm Furtwängler', 'Wi...           0.000000\n",
              "301688                          ['Dr. Dre', 'Snoop Dogg']          64.714286\n",
              "261596                                            ['Hex']          16.733333\n",
              "29816                    ['Kishore Kumar', 'Asha Bhosle']          19.616162"
            ]
          },
          "execution_count": 30,
          "metadata": {
            "tags": []
          },
          "output_type": "execute_result"
        }
      ],
      "source": [
        "tracks_df[['artists', 'artist_popularity']].sample(10)"
      ]
    },
    {
      "cell_type": "markdown",
      "metadata": {
        "id": "ql2PoKapPKo6"
      },
      "source": [
        "### Input and Target Columns"
      ]
    },
    {
      "cell_type": "code",
      "execution_count": null,
      "metadata": {
        "colab": {
          "base_uri": "https://localhost:8080/"
        },
        "id": "aWTMcVz3PWNb",
        "outputId": "4df9c2f5-2af9-475e-ca9b-46a559fd0f01"
      },
      "outputs": [
        {
          "data": {
            "text/plain": [
              "Index(['id', 'name', 'popularity', 'duration_ms', 'explicit', 'artists',\n",
              "       'id_artists', 'release_date', 'danceability', 'energy', 'key',\n",
              "       'loudness', 'mode', 'speechiness', 'acousticness', 'instrumentalness',\n",
              "       'liveness', 'valence', 'tempo', 'time_signature', 'year', 'years_old',\n",
              "       'mean', 'count', 'artist_popularity'],\n",
              "      dtype='object')"
            ]
          },
          "execution_count": 31,
          "metadata": {
            "tags": []
          },
          "output_type": "execute_result"
        }
      ],
      "source": [
        "tracks_df.columns"
      ]
    },
    {
      "cell_type": "code",
      "execution_count": null,
      "metadata": {
        "id": "qMG1BZ_HPwDj"
      },
      "outputs": [],
      "source": [
        "input_columns = ['years_old', 'duration_ms', 'explicit', 'danceability', 'energy', 'key', \n",
        "                 'loudness', 'mode', 'speechiness', 'acousticness', 'instrumentalness', \n",
        "                 'liveness', 'valence', 'tempo', 'time_signature', 'artist_popularity']\n",
        "\n",
        "target_column = 'popularity'"
      ]
    },
    {
      "cell_type": "code",
      "execution_count": null,
      "metadata": {
        "id": "_183l99NSZ1S"
      },
      "outputs": [],
      "source": [
        "numeric_cols = ['years_old', 'duration_ms', 'explicit', 'danceability', 'energy', \n",
        "                'loudness', 'mode', 'speechiness', 'acousticness', 'instrumentalness', \n",
        "                'liveness', 'valence', 'tempo', 'artist_popularity']\n",
        "categorical_cols = ['key', 'time_signature']"
      ]
    },
    {
      "cell_type": "code",
      "execution_count": null,
      "metadata": {
        "colab": {
          "base_uri": "https://localhost:8080/"
        },
        "id": "lE0SHpOMTvA7",
        "outputId": "029f0358-6a05-4039-bf5b-be59bade01ac"
      },
      "outputs": [
        {
          "data": {
            "text/plain": [
              "0     74950\n",
              "7     73779\n",
              "2     66552\n",
              "9     65128\n",
              "5     53614\n",
              "4     48220\n",
              "1     41736\n",
              "11    39132\n",
              "10    37710\n",
              "8     33460\n",
              "6     30856\n",
              "3     21535\n",
              "Name: key, dtype: int64"
            ]
          },
          "execution_count": 34,
          "metadata": {
            "tags": []
          },
          "output_type": "execute_result"
        }
      ],
      "source": [
        "tracks_df['key'].value_counts()"
      ]
    },
    {
      "cell_type": "code",
      "execution_count": null,
      "metadata": {
        "colab": {
          "base_uri": "https://localhost:8080/"
        },
        "id": "02dTLENVQOZT",
        "outputId": "a56a6f54-b81c-43d3-fb6c-bf44641ed78f"
      },
      "outputs": [
        {
          "data": {
            "text/plain": [
              "4    503808\n",
              "3     64523\n",
              "5     11400\n",
              "1      6604\n",
              "0       337\n",
              "Name: time_signature, dtype: int64"
            ]
          },
          "execution_count": 35,
          "metadata": {
            "tags": []
          },
          "output_type": "execute_result"
        }
      ],
      "source": [
        "tracks_df['time_signature'].value_counts()"
      ]
    },
    {
      "cell_type": "markdown",
      "metadata": {
        "id": "0GaXkWw3b02U"
      },
      "source": [
        "### Training, Validation and Test Split"
      ]
    },
    {
      "cell_type": "code",
      "execution_count": null,
      "metadata": {
        "id": "Ah_-LxXjb-ft"
      },
      "outputs": [],
      "source": [
        "from sklearn.model_selection import train_test_split"
      ]
    },
    {
      "cell_type": "code",
      "execution_count": null,
      "metadata": {
        "id": "M_BHbHB8b9GV"
      },
      "outputs": [],
      "source": [
        "train_val_df, test_df = train_test_split(tracks_df, test_size=0.2, random_state=42)\n",
        "train_df, val_df = train_test_split(train_val_df, test_size=0.25, random_state=42)"
      ]
    },
    {
      "cell_type": "code",
      "execution_count": null,
      "metadata": {
        "colab": {
          "base_uri": "https://localhost:8080/"
        },
        "id": "f7zVCam2b8dZ",
        "outputId": "3030e2ee-36ec-489c-d968-13e896d389b9"
      },
      "outputs": [
        {
          "name": "stdout",
          "output_type": "stream",
          "text": [
            "train_df (352002, 25)\n",
            "val_df (117335, 25)\n",
            "test_df (117335, 25)\n"
          ]
        }
      ],
      "source": [
        "print('train_df', train_df.shape)\n",
        "print('val_df', val_df.shape)\n",
        "print('test_df', test_df.shape)"
      ]
    },
    {
      "cell_type": "code",
      "execution_count": null,
      "metadata": {
        "id": "Ckn-18WkdLt8"
      },
      "outputs": [],
      "source": [
        "train_inputs = train_df[input_columns].copy()\n",
        "val_inputs = val_df[input_columns].copy()\n",
        "test_inputs = test_df[input_columns].copy()"
      ]
    },
    {
      "cell_type": "code",
      "execution_count": null,
      "metadata": {
        "id": "LtgQB66bdql2"
      },
      "outputs": [],
      "source": [
        "Y_train = train_df[target_column].copy()\n",
        "Y_val = val_df[target_column].copy()\n",
        "Y_test = test_df[target_column].copy()"
      ]
    },
    {
      "cell_type": "markdown",
      "metadata": {
        "id": "2hIgacOuGaEF"
      },
      "source": [
        "### Imputing missing values"
      ]
    },
    {
      "cell_type": "code",
      "execution_count": null,
      "metadata": {
        "colab": {
          "base_uri": "https://localhost:8080/"
        },
        "id": "XAzlVfFvBbSs",
        "outputId": "b4e33bcd-5a3f-493a-c6e5-81a587930f3a"
      },
      "outputs": [
        {
          "data": {
            "text/plain": [
              "years_old            0\n",
              "duration_ms          0\n",
              "explicit             0\n",
              "danceability         0\n",
              "energy               0\n",
              "key                  0\n",
              "loudness             0\n",
              "mode                 0\n",
              "speechiness          0\n",
              "acousticness         0\n",
              "instrumentalness     0\n",
              "liveness             0\n",
              "valence              0\n",
              "tempo                0\n",
              "time_signature       0\n",
              "artist_popularity    0\n",
              "dtype: int64"
            ]
          },
          "execution_count": 41,
          "metadata": {
            "tags": []
          },
          "output_type": "execute_result"
        }
      ],
      "source": [
        "tracks_df[input_columns].isna().sum()"
      ]
    },
    {
      "cell_type": "code",
      "execution_count": null,
      "metadata": {
        "id": "_fzgQ9j-UcpK"
      },
      "outputs": [],
      "source": [
        "from sklearn.preprocessing import MinMaxScaler"
      ]
    },
    {
      "cell_type": "code",
      "execution_count": null,
      "metadata": {
        "id": "Yb-a9C4JZqgD"
      },
      "outputs": [],
      "source": [
        "scaler = MinMaxScaler().fit(tracks_df[numeric_cols])"
      ]
    },
    {
      "cell_type": "code",
      "execution_count": null,
      "metadata": {
        "id": "NCnL6tRcZ6nK"
      },
      "outputs": [],
      "source": [
        "train_inputs[numeric_cols] = scaler.transform(train_inputs[numeric_cols])\n",
        "val_inputs[numeric_cols] = scaler.transform(val_inputs[numeric_cols])\n",
        "test_inputs[numeric_cols] = scaler.transform(test_inputs[numeric_cols])"
      ]
    },
    {
      "cell_type": "code",
      "execution_count": null,
      "metadata": {
        "id": "k7ygB65h59fR"
      },
      "outputs": [],
      "source": [
        "Y_train = Y_train / 100\n",
        "Y_val = Y_val / 100\n",
        "Y_test = Y_test / 100"
      ]
    },
    {
      "cell_type": "code",
      "execution_count": null,
      "metadata": {
        "id": "aREAofmxfPmM"
      },
      "outputs": [],
      "source": [
        "from sklearn.preprocessing import OneHotEncoder"
      ]
    },
    {
      "cell_type": "code",
      "execution_count": null,
      "metadata": {
        "id": "LMqtib80gUnZ"
      },
      "outputs": [],
      "source": [
        "encoder = OneHotEncoder(sparse=False, handle_unknown='ignore').fit(tracks_df[categorical_cols])\n",
        "encoded_cols = list(encoder.get_feature_names(categorical_cols))"
      ]
    },
    {
      "cell_type": "code",
      "execution_count": null,
      "metadata": {
        "id": "uASUJa5ThDKd"
      },
      "outputs": [],
      "source": [
        "train_inputs[encoded_cols] = encoder.transform(train_inputs[categorical_cols])\n",
        "val_inputs[encoded_cols] = encoder.transform(val_inputs[categorical_cols])\n",
        "test_inputs[encoded_cols] = encoder.transform(test_inputs[categorical_cols])"
      ]
    },
    {
      "cell_type": "code",
      "execution_count": null,
      "metadata": {
        "id": "IcDZ_RSXvOsq"
      },
      "outputs": [],
      "source": [
        "X_train = train_inputs[numeric_cols + encoded_cols]\n",
        "X_val = val_inputs[numeric_cols + encoded_cols]\n",
        "X_test = test_inputs[numeric_cols + encoded_cols]"
      ]
    },
    {
      "cell_type": "markdown",
      "metadata": {
        "id": "QUg41r3GhoS6"
      },
      "source": [
        "## Linear Regression\n",
        "\n"
      ]
    },
    {
      "cell_type": "code",
      "execution_count": null,
      "metadata": {
        "id": "GsQ6ZeLEhWpU"
      },
      "outputs": [],
      "source": [
        "from sklearn.linear_model import Ridge"
      ]
    },
    {
      "cell_type": "code",
      "execution_count": null,
      "metadata": {
        "id": "SuPX0R3pj7F9"
      },
      "outputs": [],
      "source": [
        "linear_model = Ridge()"
      ]
    },
    {
      "cell_type": "code",
      "execution_count": null,
      "metadata": {
        "colab": {
          "base_uri": "https://localhost:8080/"
        },
        "id": "CarpJWtZkAgS",
        "outputId": "2548895a-9312-413d-a348-216da7bee3fa"
      },
      "outputs": [
        {
          "data": {
            "text/plain": [
              "Ridge(alpha=1.0, copy_X=True, fit_intercept=True, max_iter=None,\n",
              "      normalize=False, random_state=None, solver='auto', tol=0.001)"
            ]
          },
          "execution_count": 52,
          "metadata": {
            "tags": []
          },
          "output_type": "execute_result"
        }
      ],
      "source": [
        "linear_model.fit(X_train, Y_train)"
      ]
    },
    {
      "cell_type": "code",
      "execution_count": null,
      "metadata": {
        "id": "lLcaui2ykRok"
      },
      "outputs": [],
      "source": [
        "linear_train_predictions = linear_model.predict(X_train)"
      ]
    },
    {
      "cell_type": "code",
      "execution_count": null,
      "metadata": {
        "colab": {
          "base_uri": "https://localhost:8080/"
        },
        "id": "cTsVO3Ekkxn-",
        "outputId": "1e29872f-8fdc-43e3-80af-7a9bd6671c85"
      },
      "outputs": [
        {
          "data": {
            "text/plain": [
              "array([0.2382466 , 0.33454942, 0.56792125, ..., 0.04601526, 0.46541006,\n",
              "       0.37539489])"
            ]
          },
          "execution_count": 54,
          "metadata": {
            "tags": []
          },
          "output_type": "execute_result"
        }
      ],
      "source": [
        "linear_train_predictions"
      ]
    },
    {
      "cell_type": "code",
      "execution_count": null,
      "metadata": {
        "id": "nKPWHRgekiHf"
      },
      "outputs": [],
      "source": [
        "from sklearn.metrics import mean_squared_error"
      ]
    },
    {
      "cell_type": "code",
      "execution_count": null,
      "metadata": {
        "id": "ri_KsaNJkpyS"
      },
      "outputs": [],
      "source": [
        "train_rmse = mean_squared_error(linear_train_predictions, Y_train, squared=False)"
      ]
    },
    {
      "cell_type": "code",
      "execution_count": null,
      "metadata": {
        "colab": {
          "base_uri": "https://localhost:8080/"
        },
        "id": "wnj5P-fOkpn7",
        "outputId": "d665701a-bc03-4501-82ff-7c953cba5882"
      },
      "outputs": [
        {
          "name": "stdout",
          "output_type": "stream",
          "text": [
            "The RMSE loss for training set is  0.11869256238860909\n"
          ]
        }
      ],
      "source": [
        "print('The RMSE loss for training set is ', train_rmse)"
      ]
    },
    {
      "cell_type": "code",
      "execution_count": null,
      "metadata": {
        "colab": {
          "base_uri": "https://localhost:8080/"
        },
        "id": "91i_xiyxs2yE",
        "outputId": "9404d41b-9c7a-4840-91ef-606bba48c294"
      },
      "outputs": [
        {
          "name": "stdout",
          "output_type": "stream",
          "text": [
            "The RMSE loss for validation set is  0.11880934110046901\n"
          ]
        }
      ],
      "source": [
        "linear_val_predictions = linear_model.predict(X_val)\n",
        "val_rmse = mean_squared_error(linear_val_predictions, Y_val, squared=False)\n",
        "print('The RMSE loss for validation set is ', val_rmse)"
      ]
    },
    {
      "cell_type": "code",
      "execution_count": null,
      "metadata": {
        "colab": {
          "base_uri": "https://localhost:8080/"
        },
        "id": "AlzK_EUNs2po",
        "outputId": "72bb75d3-362b-406b-9806-586694669457"
      },
      "outputs": [
        {
          "name": "stdout",
          "output_type": "stream",
          "text": [
            "The RMSE loss for test set is  0.11783782221260501\n"
          ]
        }
      ],
      "source": [
        "linear_test_predictions = linear_model.predict(X_test)\n",
        "test_rmse = mean_squared_error(linear_test_predictions, Y_test, squared=False)\n",
        "print('The RMSE loss for test set is ', test_rmse)"
      ]
    },
    {
      "cell_type": "markdown",
      "metadata": {
        "id": "RpdKhQ46n5vB"
      },
      "source": [
        "## Random Forest\n",
        "\n"
      ]
    },
    {
      "cell_type": "code",
      "execution_count": null,
      "metadata": {
        "id": "yOoEkhsSoYCu"
      },
      "outputs": [],
      "source": [
        "from sklearn.ensemble import RandomForestRegressor"
      ]
    },
    {
      "cell_type": "code",
      "execution_count": null,
      "metadata": {
        "id": "NGXukVJ9on2N"
      },
      "outputs": [],
      "source": [
        "random_forest_model = RandomForestRegressor(n_jobs=-1, random_state=42)"
      ]
    },
    {
      "cell_type": "code",
      "execution_count": null,
      "metadata": {
        "colab": {
          "base_uri": "https://localhost:8080/"
        },
        "id": "7ZmPX9ZMoqV2",
        "outputId": "f9fbf002-45a3-437b-dd71-3a8c5447068a"
      },
      "outputs": [
        {
          "data": {
            "text/plain": [
              "RandomForestRegressor(bootstrap=True, ccp_alpha=0.0, criterion='mse',\n",
              "                      max_depth=None, max_features='auto', max_leaf_nodes=None,\n",
              "                      max_samples=None, min_impurity_decrease=0.0,\n",
              "                      min_impurity_split=None, min_samples_leaf=1,\n",
              "                      min_samples_split=2, min_weight_fraction_leaf=0.0,\n",
              "                      n_estimators=100, n_jobs=-1, oob_score=False,\n",
              "                      random_state=42, verbose=0, warm_start=False)"
            ]
          },
          "execution_count": 62,
          "metadata": {
            "tags": []
          },
          "output_type": "execute_result"
        }
      ],
      "source": [
        "random_forest_model.fit(X_train, Y_train)"
      ]
    },
    {
      "cell_type": "code",
      "execution_count": null,
      "metadata": {
        "colab": {
          "base_uri": "https://localhost:8080/"
        },
        "id": "GZctl-83v-rX",
        "outputId": "fa2c62a9-70f9-4fbe-dc63-dee99a51a5c2"
      },
      "outputs": [
        {
          "data": {
            "text/plain": [
              "array([0.2692 , 0.2128 , 0.4946 , ..., 0.0655 , 0.423  , 0.37572])"
            ]
          },
          "execution_count": 63,
          "metadata": {
            "tags": []
          },
          "output_type": "execute_result"
        }
      ],
      "source": [
        "random_forest_train_preds = random_forest_model.predict(X_train)\n",
        "random_forest_train_preds"
      ]
    },
    {
      "cell_type": "code",
      "execution_count": null,
      "metadata": {
        "colab": {
          "base_uri": "https://localhost:8080/"
        },
        "id": "tadF94KgwoFw",
        "outputId": "82eaf99b-9449-4b09-f752-0bac38383541"
      },
      "outputs": [
        {
          "name": "stdout",
          "output_type": "stream",
          "text": [
            "The RMSE loss for training set is  0.03816131456756738\n"
          ]
        }
      ],
      "source": [
        "train_rmse = mean_squared_error(random_forest_train_preds, Y_train, squared=False)\n",
        "print('The RMSE loss for training set is ', train_rmse)"
      ]
    },
    {
      "cell_type": "code",
      "execution_count": null,
      "metadata": {
        "colab": {
          "base_uri": "https://localhost:8080/"
        },
        "id": "nbgwOzxgv-pg",
        "outputId": "d2c151ac-5601-47ba-fd68-4b46f0dbe1dd"
      },
      "outputs": [
        {
          "data": {
            "text/plain": [
              "array([3.0130e-02, 3.4100e-02, 5.6460e-01, ..., 5.7665e-01, 4.3920e-01,\n",
              "       3.0000e-04])"
            ]
          },
          "execution_count": 65,
          "metadata": {
            "tags": []
          },
          "output_type": "execute_result"
        }
      ],
      "source": [
        "random_forest_val_preds = random_forest_model.predict(X_val)\n",
        "random_forest_val_preds"
      ]
    },
    {
      "cell_type": "code",
      "execution_count": null,
      "metadata": {
        "colab": {
          "base_uri": "https://localhost:8080/"
        },
        "id": "bfbF5qy-wnmw",
        "outputId": "9fa4a06f-53d6-4ecd-ba98-761b2daeb51e"
      },
      "outputs": [
        {
          "name": "stdout",
          "output_type": "stream",
          "text": [
            "The RMSE loss for validation set is  0.0985493109542275\n"
          ]
        }
      ],
      "source": [
        "val_rmse = mean_squared_error(random_forest_val_preds, Y_val, squared=False)\n",
        "print('The RMSE loss for validation set is ', val_rmse)"
      ]
    },
    {
      "cell_type": "code",
      "execution_count": null,
      "metadata": {
        "id": "_crlXeKYxXCL"
      },
      "outputs": [],
      "source": [
        "def test_params(**params):\n",
        "    model = RandomForestRegressor(random_state=42, n_jobs=-1, **params).fit(X_train, Y_train)\n",
        "    train_rmse = mean_squared_error(model.predict(X_train), Y_train, squared=False)\n",
        "    val_rmse = mean_squared_error(model.predict(X_val), Y_val, squared=False)\n",
        "    return train_rmse, val_rmse"
      ]
    },
    {
      "cell_type": "code",
      "execution_count": null,
      "metadata": {
        "id": "kP-mijjlxW5S"
      },
      "outputs": [],
      "source": [
        "def test_param_and_plot(param_name, param_values):\n",
        "    train_errors, val_errors = [], [] \n",
        "    for value in param_values:\n",
        "        params = {param_name: value}\n",
        "        train_rmse, val_rmse = test_params(**params)\n",
        "        train_errors.append(train_rmse)\n",
        "        val_errors.append(val_rmse)\n",
        "    plt.figure(figsize=(10,6))\n",
        "    plt.title('Overfitting curve: ' + param_name)\n",
        "    plt.plot(param_values, train_errors, 'b-o')\n",
        "    plt.plot(param_values, val_errors, 'r-o')\n",
        "    plt.xlabel(param_name)\n",
        "    plt.ylabel('RMSE')\n",
        "    plt.legend(['Training', 'Validation'])"
      ]
    },
    {
      "cell_type": "code",
      "execution_count": null,
      "metadata": {
        "colab": {
          "base_uri": "https://localhost:8080/",
          "height": 416
        },
        "id": "jHbCXlwGxW3N",
        "outputId": "3561f3a6-3da1-4ca8-9ae6-f9421f70458f"
      },
      "outputs": [
        {
          "data": {
            "image/png": "[encoded data removed]",
            "text/plain": [
              "<Figure size 720x432 with 1 Axes>"
            ]
          },
          "metadata": {
            "needs_background": "light",
            "tags": []
          },
          "output_type": "display_data"
        }
      ],
      "source": [
        "test_param_and_plot('max_depth', [5, 10, 15, 20, 25])"
      ]
    },
    {
      "cell_type": "code",
      "execution_count": null,
      "metadata": {
        "colab": {
          "base_uri": "https://localhost:8080/",
          "height": 416
        },
        "id": "vSPgxv4Ky0tS",
        "outputId": "5d41f34b-e24e-493d-84a3-4835844a5219"
      },
      "outputs": [
        {
          "data": {
            "image/png": "[encoded data removed]",
            "text/plain": [
              "<Figure size 720x432 with 1 Axes>"
            ]
          },
          "metadata": {
            "needs_background": "light",
            "tags": []
          },
          "output_type": "display_data"
        }
      ],
      "source": [
        "test_param_and_plot('n_estimators', [100, 150, 200, 250])"
      ]
    },
    {
      "cell_type": "code",
      "execution_count": null,
      "metadata": {
        "colab": {
          "base_uri": "https://localhost:8080/",
          "height": 416
        },
        "id": "CwQNnbdsy1nr",
        "outputId": "039c5042-da2d-44e5-e51c-ec7e7dafe764"
      },
      "outputs": [
        {
          "data": {
            "image/png": "[encoded data removed]",
            "text/plain": [
              "<Figure size 720x432 with 1 Axes>"
            ]
          },
          "metadata": {
            "needs_background": "light",
            "tags": []
          },
          "output_type": "display_data"
        }
      ],
      "source": [
        "test_param_and_plot('max_features', [6, 8, 10, 12, 14])"
      ]
    },
    {
      "cell_type": "code",
      "execution_count": null,
      "metadata": {
        "colab": {
          "base_uri": "https://localhost:8080/"
        },
        "id": "fR-IHgtQ4KWA",
        "outputId": "6f1013c1-069f-46c4-86b0-c43b51bc2922"
      },
      "outputs": [
        {
          "data": {
            "text/plain": [
              "RandomForestRegressor(bootstrap=True, ccp_alpha=0.0, criterion='mse',\n",
              "                      max_depth=15, max_features=10, max_leaf_nodes=None,\n",
              "                      max_samples=None, min_impurity_decrease=0.0,\n",
              "                      min_impurity_split=None, min_samples_leaf=1,\n",
              "                      min_samples_split=2, min_weight_fraction_leaf=0.0,\n",
              "                      n_estimators=100, n_jobs=-1, oob_score=False,\n",
              "                      random_state=42, verbose=0, warm_start=False)"
            ]
          },
          "execution_count": 72,
          "metadata": {
            "tags": []
          },
          "output_type": "execute_result"
        }
      ],
      "source": [
        "random_forest_model = RandomForestRegressor(n_jobs=-1, \n",
        "                                            random_state=42, \n",
        "                                            max_depth=15, \n",
        "                                            n_estimators=100, \n",
        "                                            max_features=10)\n",
        "random_forest_model.fit(X_train, Y_train)"
      ]
    },
    {
      "cell_type": "code",
      "execution_count": null,
      "metadata": {
        "colab": {
          "base_uri": "https://localhost:8080/"
        },
        "id": "wWganxAMo5Zu",
        "outputId": "24b05fd5-fcf0-45a0-c517-6e671b58f493"
      },
      "outputs": [
        {
          "name": "stdout",
          "output_type": "stream",
          "text": [
            "The RMSE loss for training set is  0.08949642866541821  and accuracy is  76.32310537376918 %\n"
          ]
        }
      ],
      "source": [
        "train_acc = random_forest_model.score(X_train, Y_train)\n",
        "train_rmse = mean_squared_error(random_forest_model.predict(X_train), Y_train, squared=False)\n",
        "print('The RMSE loss for training set is ', train_rmse, ' and accuracy is ', train_acc*100, '%')"
      ]
    },
    {
      "cell_type": "code",
      "execution_count": null,
      "metadata": {
        "colab": {
          "base_uri": "https://localhost:8080/"
        },
        "id": "IVSzoug8vfru",
        "outputId": "71c57344-c33b-4196-d4c9-ad12070ebc0a"
      },
      "outputs": [
        {
          "name": "stdout",
          "output_type": "stream",
          "text": [
            "The RMSE loss for validation set is  0.09923756195532543  and accuracy is  70.85634588193562 %\n"
          ]
        }
      ],
      "source": [
        "val_acc = random_forest_model.score(X_val, Y_val)\n",
        "val_rmse = mean_squared_error(random_forest_model.predict(X_val), Y_val, squared=False)\n",
        "print('The RMSE loss for validation set is ', val_rmse, ' and accuracy is ', val_acc*100, '%')"
      ]
    },
    {
      "cell_type": "code",
      "execution_count": null,
      "metadata": {
        "colab": {
          "base_uri": "https://localhost:8080/"
        },
        "id": "MR6Sqda3CK1c",
        "outputId": "bec86351-ab06-422d-c9cf-cae8fc9c4f2f"
      },
      "outputs": [
        {
          "name": "stdout",
          "output_type": "stream",
          "text": [
            "The RMSE loss for test set is  0.09848852947939368  and accuracy is  71.01177622937989 %\n"
          ]
        }
      ],
      "source": [
        "test_acc = random_forest_model.score(X_test, Y_test)\n",
        "test_rmse = mean_squared_error(random_forest_model.predict(X_test), Y_test, squared=False)\n",
        "print('The RMSE loss for test set is ', test_rmse, ' and accuracy is ', test_acc*100, '%')"
      ]
    },
    {
      "cell_type": "code",
      "execution_count": null,
      "metadata": {
        "id": "m0WqLndX-m9N"
      },
      "outputs": [],
      "source": [
        "feature_importance_df = pd.DataFrame({\n",
        "    'feature': X_train.columns,\n",
        "    'importance': random_forest_model.feature_importances_\n",
        "}).sort_values('importance', ascending=False)"
      ]
    },
    {
      "cell_type": "code",
      "execution_count": null,
      "metadata": {
        "colab": {
          "base_uri": "https://localhost:8080/",
          "height": 416
        },
        "id": "X7sNfu5T-neu",
        "outputId": "084b02d3-b9fc-4429-b975-d2bdc67ac1b3"
      },
      "outputs": [
        {
          "data": {
            "image/png": "[encoded data removed]",
            "text/plain": [
              "<Figure size 720x432 with 1 Axes>"
            ]
          },
          "metadata": {
            "needs_background": "light",
            "tags": []
          },
          "output_type": "display_data"
        }
      ],
      "source": [
        "plt.figure(figsize=(10,6))\n",
        "plt.title('Feature Importance')\n",
        "sns.barplot(data=feature_importance_df.head(10), x='importance', y='feature', palette='icefire');"
      ]
    },
    {
      "cell_type": "code",
      "execution_count": null,
      "metadata": {
        "id": "2izqM5gq8Wie"
      },
      "outputs": [],
      "source": [
        "!pip install xgboost --upgrade --quiet"
      ]
    },
    {
      "cell_type": "code",
      "execution_count": null,
      "metadata": {
        "id": "vJrPQLHo1Mxs"
      },
      "outputs": [],
      "source": [
        "from xgboost import XGBRegressor"
      ]
    },
    {
      "cell_type": "code",
      "execution_count": null,
      "metadata": {
        "id": "zrV71PJl1Mln"
      },
      "outputs": [],
      "source": [
        "gbm_model = XGBRegressor(random_state=42, n_jobs=-1, n_estimators=20, max_depth=4)"
      ]
    },
    {
      "cell_type": "code",
      "execution_count": null,
      "metadata": {
        "colab": {
          "base_uri": "https://localhost:8080/"
        },
        "id": "YOcqrLgf1MOC",
        "outputId": "78ea1bef-0754-453c-86e1-21fc98101bbe"
      },
      "outputs": [
        {
          "data": {
            "text/plain": [
              "XGBRegressor(base_score=0.5, booster='gbtree', colsample_bylevel=1,\n",
              "             colsample_bynode=1, colsample_bytree=1, gamma=0, gpu_id=-1,\n",
              "             importance_type='gain', interaction_constraints='',\n",
              "             learning_rate=0.300000012, max_delta_step=0, max_depth=4,\n",
              "             min_child_weight=1, missing=nan, monotone_constraints='()',\n",
              "             n_estimators=20, n_jobs=-1, num_parallel_tree=1,\n",
              "             objective='reg:squarederror', random_state=42, reg_alpha=0,\n",
              "             reg_lambda=1, scale_pos_weight=1, subsample=1, tree_method='exact',\n",
              "             validate_parameters=1, verbosity=None)"
            ]
          },
          "execution_count": 82,
          "metadata": {
            "tags": []
          },
          "output_type": "execute_result"
        }
      ],
      "source": [
        "gbm_model.fit(X_train, Y_train)"
      ]
    },
    {
      "cell_type": "code",
      "execution_count": null,
      "metadata": {
        "colab": {
          "base_uri": "https://localhost:8080/"
        },
        "id": "PnxDD-792BFp",
        "outputId": "f6648790-790b-4862-b78f-fa382fc19c1c"
      },
      "outputs": [
        {
          "data": {
            "text/plain": [
              "array([0.22382605, 0.35105187, 0.5886918 , ..., 0.02703674, 0.4237026 ,\n",
              "       0.36623526], dtype=float32)"
            ]
          },
          "execution_count": 83,
          "metadata": {
            "tags": []
          },
          "output_type": "execute_result"
        }
      ],
      "source": [
        "gbm_train_preds = gbm_model.predict(X_train)\n",
        "gbm_train_preds"
      ]
    },
    {
      "cell_type": "code",
      "execution_count": null,
      "metadata": {
        "colab": {
          "base_uri": "https://localhost:8080/"
        },
        "id": "gVz0oGI-2baV",
        "outputId": "d88275b2-edc0-4f44-8836-f1f48a8076e6"
      },
      "outputs": [
        {
          "name": "stdout",
          "output_type": "stream",
          "text": [
            "The RMSE loss for training set is  0.1030407038841221\n"
          ]
        }
      ],
      "source": [
        "train_rmse = mean_squared_error(gbm_train_preds, Y_train, squared=False)\n",
        "print('The RMSE loss for training set is ', train_rmse)"
      ]
    },
    {
      "cell_type": "code",
      "execution_count": null,
      "metadata": {
        "colab": {
          "base_uri": "https://localhost:8080/"
        },
        "id": "IW8ksI5g2XcH",
        "outputId": "9c274b37-5ee0-4b39-8c2c-b00bfbf08822"
      },
      "outputs": [
        {
          "data": {
            "text/plain": [
              "array([0.03452813, 0.0514764 , 0.47231337, ..., 0.4423982 , 0.4675226 ,\n",
              "       0.01998455], dtype=float32)"
            ]
          },
          "execution_count": 85,
          "metadata": {
            "tags": []
          },
          "output_type": "execute_result"
        }
      ],
      "source": [
        "gbm_val_preds = gbm_model.predict(X_val)\n",
        "gbm_val_preds"
      ]
    },
    {
      "cell_type": "code",
      "execution_count": null,
      "metadata": {
        "colab": {
          "base_uri": "https://localhost:8080/"
        },
        "id": "gGAtXaDd2bYR",
        "outputId": "65f550ff-3930-4c20-d6db-d90638d7884f"
      },
      "outputs": [
        {
          "name": "stdout",
          "output_type": "stream",
          "text": [
            "The RMSE loss for validation set is  0.10338607422749921\n"
          ]
        }
      ],
      "source": [
        "val_rmse = mean_squared_error(gbm_val_preds, Y_val, squared=False)\n",
        "print('The RMSE loss for validation set is ', val_rmse)"
      ]
    },
    {
      "cell_type": "code",
      "execution_count": null,
      "metadata": {
        "id": "QdXTFd_Q2lQP"
      },
      "outputs": [],
      "source": [
        "def test_params(**params):\n",
        "    model = XGBRegressor(random_state=42, n_jobs=-1, **params).fit(X_train, Y_train)\n",
        "    train_rmse = mean_squared_error(model.predict(X_train), Y_train, squared=False)\n",
        "    val_rmse = mean_squared_error(model.predict(X_val), Y_val, squared=False)\n",
        "    return train_rmse, val_rmse"
      ]
    },
    {
      "cell_type": "code",
      "execution_count": null,
      "metadata": {
        "colab": {
          "base_uri": "https://localhost:8080/",
          "height": 416
        },
        "id": "aApfo5y32lGm",
        "outputId": "38ce2692-7520-4eb6-ada4-f7f6c124efee"
      },
      "outputs": [
        {
          "data": {
            "image/png": "[encoded data removed]",
            "text/plain": [
              "<Figure size 720x432 with 1 Axes>"
            ]
          },
          "metadata": {
            "needs_background": "light",
            "tags": []
          },
          "output_type": "display_data"
        }
      ],
      "source": [
        "test_param_and_plot('n_estimators', [1000, 1200, 1500])"
      ]
    },
    {
      "cell_type": "code",
      "execution_count": null,
      "metadata": {
        "colab": {
          "base_uri": "https://localhost:8080/",
          "height": 416
        },
        "id": "QqoQENTv0YiM",
        "outputId": "27490843-8395-43c1-9d24-5bbcd33a3035"
      },
      "outputs": [
        {
          "data": {
            "image/png": "[encoded data removed]",
            "text/plain": [
              "<Figure size 720x432 with 1 Axes>"
            ]
          },
          "metadata": {
            "needs_background": "light",
            "tags": []
          },
          "output_type": "display_data"
        }
      ],
      "source": [
        "test_param_and_plot('n_estimators', [400, 600, 800])"
      ]
    },
    {
      "cell_type": "code",
      "execution_count": null,
      "metadata": {
        "colab": {
          "base_uri": "https://localhost:8080/",
          "height": 416
        },
        "id": "U2628PWe5FHP",
        "outputId": "e462ad1a-ab3b-4c96-f2ac-1ab8a91f539d"
      },
      "outputs": [
        {
          "data": {
            "image/png": "[encoded data removed]",
            "text/plain": [
              "<Figure size 720x432 with 1 Axes>"
            ]
          },
          "metadata": {
            "needs_background": "light",
            "tags": []
          },
          "output_type": "display_data"
        }
      ],
      "source": [
        "test_param_and_plot('n_estimators', [100, 200, 400])"
      ]
    },
    {
      "cell_type": "code",
      "execution_count": null,
      "metadata": {
        "colab": {
          "base_uri": "https://localhost:8080/",
          "height": 416
        },
        "id": "zzanGy9Y2lBE",
        "outputId": "6f113b3d-9572-425c-8c08-f97d5271a853"
      },
      "outputs": [
        {
          "data": {
            "image/png": "[encoded data removed]",
            "text/plain": [
              "<Figure size 720x432 with 1 Axes>"
            ]
          },
          "metadata": {
            "needs_background": "light",
            "tags": []
          },
          "output_type": "display_data"
        }
      ],
      "source": [
        "test_param_and_plot('max_depth', [8, 10, 12, 14])"
      ]
    },
    {
      "cell_type": "code",
      "execution_count": null,
      "metadata": {
        "colab": {
          "base_uri": "https://localhost:8080/",
          "height": 416
        },
        "id": "tmfXi6imOHHg",
        "outputId": "7059078f-f4ed-4bec-c4e8-8d4c516915a9"
      },
      "outputs": [
        {
          "data": {
            "image/png": "[encoded data removed]",
            "text/plain": [
              "<Figure size 720x432 with 1 Axes>"
            ]
          },
          "metadata": {
            "needs_background": "light",
            "tags": []
          },
          "output_type": "display_data"
        }
      ],
      "source": [
        "test_param_and_plot('max_depth', [2, 4, 6, 8])"
      ]
    },
    {
      "cell_type": "code",
      "execution_count": null,
      "metadata": {
        "id": "YDOkqtYr7fGf"
      },
      "outputs": [],
      "source": [
        "def test_and_plot_learning_rate(param_values):\n",
        "    train_errors, val_errors = [], [] \n",
        "    for value in param_values:\n",
        "        params = {'learning_rate': value, 'n_estimators': 200}\n",
        "        train_rmse, val_rmse = test_params(**params)\n",
        "        train_errors.append(train_rmse)\n",
        "        val_errors.append(val_rmse)\n",
        "    plt.figure(figsize=(10,6))\n",
        "    plt.title('Overfitting curve: ' + 'learning_rate')\n",
        "    plt.plot(param_values, train_errors, 'b-o')\n",
        "    plt.plot(param_values, val_errors, 'r-o')\n",
        "    plt.xlabel('learning_rate')\n",
        "    plt.ylabel('RMSE')\n",
        "    plt.legend(['Training', 'Validation'])"
      ]
    },
    {
      "cell_type": "code",
      "execution_count": null,
      "metadata": {
        "colab": {
          "base_uri": "https://localhost:8080/",
          "height": 416
        },
        "id": "bTXMpL2f2k-t",
        "outputId": "a9b35c89-417f-40a6-c4c3-6d1de9447ae8"
      },
      "outputs": [
        {
          "data": {
            "image/png": "[encoded data removed]",
            "text/plain": [
              "<Figure size 720x432 with 1 Axes>"
            ]
          },
          "metadata": {
            "needs_background": "light",
            "tags": []
          },
          "output_type": "display_data"
        }
      ],
      "source": [
        "test_and_plot_learning_rate([0.1, 0.2, 0.3, 0.4])"
      ]
    },
    {
      "cell_type": "code",
      "execution_count": null,
      "metadata": {
        "colab": {
          "base_uri": "https://localhost:8080/"
        },
        "id": "GBoPNo-x6DpK",
        "outputId": "e533cb28-f7d2-4726-9071-6aee97457e85"
      },
      "outputs": [
        {
          "data": {
            "text/plain": [
              "XGBRegressor(base_score=0.5, booster='gbtree', colsample_bylevel=1,\n",
              "             colsample_bynode=1, colsample_bytree=1, gamma=0, gpu_id=-1,\n",
              "             importance_type='gain', interaction_constraints='',\n",
              "             learning_rate=0.2, max_delta_step=0, max_depth=8,\n",
              "             min_child_weight=1, missing=nan, monotone_constraints='()',\n",
              "             n_estimators=200, n_jobs=-1, num_parallel_tree=1,\n",
              "             objective='reg:squarederror', random_state=42, reg_alpha=0,\n",
              "             reg_lambda=1, scale_pos_weight=1, subsample=1, tree_method='exact',\n",
              "             validate_parameters=1, verbosity=None)"
            ]
          },
          "execution_count": 96,
          "metadata": {
            "tags": []
          },
          "output_type": "execute_result"
        }
      ],
      "source": [
        "gbm_model = XGBRegressor(random_state=42, \n",
        "                         n_jobs=-1, \n",
        "                         n_estimators=200, \n",
        "                         max_depth=8, \n",
        "                         learning_rate=0.2)\n",
        "gbm_model.fit(X_train, Y_train)"
      ]
    },
    {
      "cell_type": "code",
      "execution_count": null,
      "metadata": {
        "colab": {
          "base_uri": "https://localhost:8080/"
        },
        "id": "r0ecwyLh58x-",
        "outputId": "e7794b4f-9f29-4058-f15b-e59477221cfa"
      },
      "outputs": [
        {
          "name": "stdout",
          "output_type": "stream",
          "text": [
            "The RMSE loss for training set is  0.0881456457592302  and accuracy is  77.03242948569432 %\n"
          ]
        }
      ],
      "source": [
        "train_acc = gbm_model.score(X_train, Y_train)\n",
        "train_rmse = mean_squared_error(gbm_model.predict(X_train), Y_train, squared=False)\n",
        "print('The RMSE loss for training set is ', train_rmse, ' and accuracy is ', train_acc*100, '%')"
      ]
    },
    {
      "cell_type": "code",
      "execution_count": null,
      "metadata": {
        "colab": {
          "base_uri": "https://localhost:8080/"
        },
        "id": "W9LZ5YEH6Jrl",
        "outputId": "82703662-f13b-4085-80e8-8f688dee5aa1"
      },
      "outputs": [
        {
          "name": "stdout",
          "output_type": "stream",
          "text": [
            "The RMSE loss for validation set is  0.09907624298519543  and accuracy is  70.95101977146088 %\n"
          ]
        }
      ],
      "source": [
        "val_acc = gbm_model.score(X_val, Y_val)\n",
        "val_rmse = mean_squared_error(gbm_model.predict(X_val), Y_val, squared=False)\n",
        "print('The RMSE loss for validation set is ', val_rmse, ' and accuracy is ', val_acc*100, '%')"
      ]
    },
    {
      "cell_type": "code",
      "execution_count": null,
      "metadata": {
        "colab": {
          "base_uri": "https://localhost:8080/"
        },
        "id": "sApJgaVl6Jjl",
        "outputId": "d4e4c040-4c48-4b22-ac0f-98bd0db23e75"
      },
      "outputs": [
        {
          "name": "stdout",
          "output_type": "stream",
          "text": [
            "The RMSE loss for test set is  0.09836366440351287  and accuracy is  71.08523295130684 %\n"
          ]
        }
      ],
      "source": [
        "test_acc = gbm_model.score(X_test, Y_test)\n",
        "test_rmse = mean_squared_error(gbm_model.predict(X_test), Y_test, squared=False)\n",
        "print('The RMSE loss for test set is ', test_rmse, ' and accuracy is ', test_acc*100, '%')"
      ]
    },
    {
      "cell_type": "code",
      "execution_count": null,
      "metadata": {
        "id": "uox18X3j-6TM"
      },
      "outputs": [],
      "source": [
        "feature_importance_df = pd.DataFrame({\n",
        "    'feature': X_train.columns,\n",
        "    'importance': gbm_model.feature_importances_\n",
        "}).sort_values('importance', ascending=False)"
      ]
    },
    {
      "cell_type": "code",
      "execution_count": null,
      "metadata": {
        "colab": {
          "base_uri": "https://localhost:8080/",
          "height": 416
        },
        "id": "jgbMucX1-6LQ",
        "outputId": "e18f3cfa-74b6-4953-b1a6-f39995071d32"
      },
      "outputs": [
        {
          "data": {
            "image/png": "[encoded data removed]",
            "text/plain": [
              "<Figure size 720x432 with 1 Axes>"
            ]
          },
          "metadata": {
            "needs_background": "light",
            "tags": []
          },
          "output_type": "display_data"
        }
      ],
      "source": [
        "plt.figure(figsize=(10,6))\n",
        "plt.title('Feature Importance')\n",
        "sns.barplot(data=feature_importance_df.head(10), x='importance', y='feature', palette='icefire');"
      ]
    },
    {
      "cell_type": "markdown",
      "metadata": {
        "id": "0F2RBk8-FIAl"
      },
      "source": [
        "## Making Predictions"
      ]
    },
    {
      "cell_type": "markdown",
      "metadata": {
        "id": "QUkUK-FI-C1c"
      },
      "source": [
        "Now let's make predictions on a single input."
      ]
    },
    {
      "cell_type": "code",
      "execution_count": null,
      "metadata": {
        "id": "_8XUQiIRFK8k"
      },
      "outputs": [],
      "source": [
        "new_input = {\n",
        "    'name' : 'Watermelon Sugar',\n",
        "    'duration_ms' : 174000,\n",
        "    'explicit' : 0,\n",
        "    'artists'\t: \"['Harry Styles']\",\n",
        "    'release_date' : '2019',\n",
        "    'danceability' : 0.548,\n",
        "    'energy' : 0.816,\n",
        "    'key' : 0,\n",
        "    'loudness' : -4.209,\n",
        "    'mode' : 1,\n",
        "    'speechiness' : 0.0465,\n",
        "    'acousticness' : 0.122,\n",
        "    'instrumentalness' : 0.0,\n",
        "    'liveness' : 0.335,\n",
        "    'valence' : 0.557,\n",
        "    'tempo' : 95.39,\n",
        "    'time_signature' : 4\n",
        "}"
      ]
    },
    {
      "cell_type": "markdown",
      "metadata": {
        "id": "QbC25XYrZYF8"
      },
      "source": [
        "Let's declare the variables that we will need for preprocessing."
      ]
    },
    {
      "cell_type": "code",
      "execution_count": null,
      "metadata": {
        "id": "4JunVwk4LNAV"
      },
      "outputs": [],
      "source": [
        "max_year = tracks_df['year'].max()\n",
        "mean_tempo = tracks_df.loc[tracks_df['tempo'] > 0 , 'tempo'].mean()"
      ]
    },
    {
      "cell_type": "code",
      "execution_count": null,
      "metadata": {
        "id": "KV89kgjq-Yyx"
      },
      "outputs": [],
      "source": [
        "def predict_input(model, single_input):\n",
        "  input_df = pd.DataFrame([single_input])\n",
        "\n",
        "  #Year\n",
        "  input_df['year'] = to_year(input_df.release_date)\n",
        "  input_df['years_old'] = max_year - input_df['year']\n",
        "\n",
        "  #Tempo\n",
        "  if input_df.tempo[0] == 0:\n",
        "    input_df['tempo'] = mean_tempo\n",
        "  \n",
        "  #Artists\n",
        "  flag = False\n",
        "  for index in tracks_df.index:\n",
        "    if tracks_df.loc[index]['artists'] == input_df.artists[0]:\n",
        "      flag = True\n",
        "      input_df['artist_popularity'] = tracks_df.loc[index]['artist_popularity']\n",
        "      break\n",
        "  \n",
        "  if(flag == False):\n",
        "    input_df['artist_popularity'] = tracks_df['popularity'].mean()\n",
        "\n",
        "  #scaling and Encoding\n",
        "  input_df[numeric_cols] = scaler.transform(input_df[numeric_cols])\n",
        "  input_df[encoded_cols] = encoder.transform(input_df[categorical_cols])\n",
        "  X_input = input_df[numeric_cols + encoded_cols]\n",
        "\n",
        "  pred = model.predict(X_input)[0]\n",
        "  pred = pred * 100\n",
        "  return pred"
      ]
    },
    {
      "cell_type": "code",
      "execution_count": null,
      "metadata": {
        "colab": {
          "base_uri": "https://localhost:8080/"
        },
        "id": "W-PBQX_hFK6b",
        "outputId": "9591ba23-f592-4c0d-aef3-f4e7ce5935eb"
      },
      "outputs": [
        {
          "name": "stdout",
          "output_type": "stream",
          "text": [
            "Predicted popularity of the song is  76.92539095878601\n"
          ]
        }
      ],
      "source": [
        "print('Predicted popularity of the song is ', predict_input(gbm_model, new_input))"
      ]
    }
  ],
  "metadata": {
    "colab": {
      "name": "Untitled6.ipynb",
      "provenance": []
    },
    "kernelspec": {
      "display_name": "Python 3",
      "name": "python3"
    },
    "language_info": {
      "name": "python"
    }
  },
  "nbformat": 4,
  "nbformat_minor": 0
}
